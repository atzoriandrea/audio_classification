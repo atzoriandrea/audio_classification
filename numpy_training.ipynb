{
 "cells": [
  {
   "cell_type": "code",
   "execution_count": 1,
   "metadata": {},
   "outputs": [
    {
     "name": "stdout",
     "output_type": "stream",
     "text": [
      "2.3.2\n"
     ]
    }
   ],
   "source": [
    "import numpy as np\n",
    "import tensorflow as tf\n",
    "\n",
    "\n",
    "print(tf.__version__)\n",
    "physical_devices = tf.config.list_physical_devices('GPU')\n",
    "tf.config.experimental.set_memory_growth(physical_devices[0], enable=True)"
   ]
  },
  {
   "cell_type": "code",
   "execution_count": 2,
   "metadata": {
    "pycharm": {
     "name": "#%%\n"
    }
   },
   "outputs": [],
   "source": [
    "dataset = np.load(\"dataset_overlap.npy\")\n",
    "classes = np.load(\"/home/andrea/Scrivania/MIVIA_ROAD_DB1/bin_classes.npy\")"
   ]
  },
  {
   "cell_type": "code",
   "execution_count": 3,
   "metadata": {
    "pycharm": {
     "name": "#%%\n"
    }
   },
   "outputs": [],
   "source": [
    "def unison_shuffled_copies(a, b):\n",
    "    p = np.random.permutation(len(a))\n",
    "    return a[p], b[p]"
   ]
  },
  {
   "cell_type": "code",
   "execution_count": 4,
   "metadata": {
    "pycharm": {
     "name": "#%%\n"
    }
   },
   "outputs": [],
   "source": [
    "def normalize(array, std_dev, mean, scale):\n",
    "    array = array/scale\n",
    "    return array-mean/std_dev"
   ]
  },
  {
   "cell_type": "code",
   "execution_count": 5,
   "metadata": {
    "pycharm": {
     "name": "#%%\n"
    }
   },
   "outputs": [],
   "source": [
    "def split_dataset_and_normalize(perc=0.8):\n",
    "    shuffled_dataset, shuffled_labels = unison_shuffled_copies(dataset,classes)\n",
    "    split_point = int(len(dataset)*perc)\n",
    "    train_ds = shuffled_dataset[:split_point]\n",
    "    train_labels = shuffled_labels[:split_point]\n",
    "    val_ds = shuffled_dataset[split_point:]\n",
    "    val_labels = shuffled_labels[split_point:]\n",
    "    std_dev = np.std(train_ds)\n",
    "    mean = np.mean(train_ds)\n",
    "    maximum = np.max(train_ds)\n",
    "    min = np.min(train_ds)\n",
    "    scale = max(maximum, abs(min))\n",
    "    train_ds = normalize(train_ds, std_dev, mean, scale)\n",
    "    val_ds = normalize(val_ds, std_dev, mean, scale)\n",
    "    return train_ds, train_labels, val_ds, val_labels\n",
    "\n",
    "train_ds, train_labels, val_ds, val_labels = split_dataset_and_normalize()"
   ]
  },
  {
   "cell_type": "code",
   "execution_count": 39,
   "metadata": {
    "pycharm": {
     "name": "#%%\n"
    }
   },
   "outputs": [
    {
     "name": "stdout",
     "output_type": "stream",
     "text": [
      "WARNING:tensorflow:Layer lstm_7 will not use cuDNN kernel since it doesn't meet the cuDNN kernel criteria. It will use generic GPU kernel as fallback when running on GPU\n",
      "WARNING:tensorflow:Layer lstm_7 will not use cuDNN kernel since it doesn't meet the cuDNN kernel criteria. It will use generic GPU kernel as fallback when running on GPU\n",
      "WARNING:tensorflow:Layer lstm_7 will not use cuDNN kernel since it doesn't meet the cuDNN kernel criteria. It will use generic GPU kernel as fallback when running on GPU\n",
      "Model: \"sequential_7\"\n",
      "_________________________________________________________________\n",
      "Layer (type)                 Output Shape              Param #   \n",
      "=================================================================\n",
      "bidirectional_7 (Bidirection (None, 384)               25665024  \n",
      "_________________________________________________________________\n",
      "dropout_28 (Dropout)         (None, 384)               0         \n",
      "_________________________________________________________________\n",
      "dense_28 (Dense)             (None, 128)               49280     \n",
      "_________________________________________________________________\n",
      "dropout_29 (Dropout)         (None, 128)               0         \n",
      "_________________________________________________________________\n",
      "dense_29 (Dense)             (None, 64)                8256      \n",
      "_________________________________________________________________\n",
      "dropout_30 (Dropout)         (None, 64)                0         \n",
      "_________________________________________________________________\n",
      "dense_30 (Dense)             (None, 32)                2080      \n",
      "_________________________________________________________________\n",
      "dropout_31 (Dropout)         (None, 32)                0         \n",
      "_________________________________________________________________\n",
      "dense_31 (Dense)             (None, 1)                 33        \n",
      "=================================================================\n",
      "Total params: 25,724,673\n",
      "Trainable params: 25,724,673\n",
      "Non-trainable params: 0\n",
      "_________________________________________________________________\n"
     ]
    }
   ],
   "source": [
    "from tensorflow.keras.layers import LSTM, Dense, Dropout, InputLayer, GRU, LSTMCell, RNN, Bidirectional\n",
    "from tensorflow import keras\n",
    "from tensorflow.keras import  regularizers\n",
    "input_shape=(32,16516)\n",
    "model = keras.Sequential()\n",
    "model.add(InputLayer(input_shape=input_shape))\n",
    "model.add(Bidirectional(LSTM(192, input_shape=input_shape,\n",
    "                             kernel_regularizer=regularizers.l2(0.00001),\n",
    "                                 recurrent_regularizer=regularizers.l2(0.00001),\n",
    "                                 bias_regularizer=regularizers.l2(0.00001),\n",
    "                             recurrent_dropout=0.3)))\n",
    "model.add(Dropout(0.4))\n",
    "model.add(Dense(128, activation='relu'))\n",
    "model.add(Dropout(0.3))\n",
    "model.add(Dense(64, activation='relu'))\n",
    "model.add(Dropout(0.3))\n",
    "model.add(Dense(32, activation='relu'))\n",
    "model.add(Dropout(0.2))\n",
    "model.add(Dense(1, activation='sigmoid'))\n",
    "model.summary()"
   ]
  },
  {
   "cell_type": "code",
   "execution_count": 41,
   "metadata": {},
   "outputs": [],
   "source": [
    "filepath = \"audio_model_bidirectional_LSTM_overlap.h5\"\n",
    "cb1 = tf.keras.callbacks.ModelCheckpoint(\n",
    "    filepath, monitor='val_loss', verbose=0, save_best_only=True,\n",
    "    save_weights_only=False, mode='auto', save_freq='epoch',\n",
    "    options=None\n",
    ")\n",
    "cb2 = tf.keras.callbacks.EarlyStopping(monitor='val_loss', patience=5)\n",
    "\n",
    "cbs = [cb1,cb2]"
   ]
  },
  {
   "cell_type": "code",
   "execution_count": 42,
   "metadata": {
    "pycharm": {
     "name": "#%%\n"
    }
   },
   "outputs": [],
   "source": [
    "callback = tf.keras.callbacks.EarlyStopping(monitor='val_loss', patience=5)\n",
    "\n",
    "model.compile(\n",
    "    optimizer=tf.keras.optimizers.Adam(learning_rate=0.00001),\n",
    "    loss=tf.keras.losses.BinaryCrossentropy(),\n",
    "    metrics=['accuracy'],\n",
    ")"
   ]
  },
  {
   "cell_type": "code",
   "execution_count": 43,
   "metadata": {
    "pycharm": {
     "name": "#%%\n"
    }
   },
   "outputs": [
    {
     "name": "stdout",
     "output_type": "stream",
     "text": [
      "Epoch 1/80\n",
      "38/38 [==============================] - 9s 231ms/step - loss: 0.7306 - accuracy: 0.4587 - val_loss: 0.7284 - val_accuracy: 0.4430\n",
      "Epoch 2/80\n",
      "38/38 [==============================] - 8s 216ms/step - loss: 0.7267 - accuracy: 0.5076 - val_loss: 0.7271 - val_accuracy: 0.4228\n",
      "Epoch 3/80\n",
      "38/38 [==============================] - 8s 217ms/step - loss: 0.7259 - accuracy: 0.4705 - val_loss: 0.7257 - val_accuracy: 0.4295\n",
      "Epoch 4/80\n",
      "38/38 [==============================] - 8s 215ms/step - loss: 0.7240 - accuracy: 0.4874 - val_loss: 0.7242 - val_accuracy: 0.4832\n",
      "Epoch 5/80\n",
      "38/38 [==============================] - 8s 213ms/step - loss: 0.7216 - accuracy: 0.5177 - val_loss: 0.7225 - val_accuracy: 0.4765\n",
      "Epoch 6/80\n",
      "38/38 [==============================] - 8s 214ms/step - loss: 0.7182 - accuracy: 0.5245 - val_loss: 0.7209 - val_accuracy: 0.4966\n",
      "Epoch 7/80\n",
      "38/38 [==============================] - 8s 214ms/step - loss: 0.7175 - accuracy: 0.5261 - val_loss: 0.7190 - val_accuracy: 0.5034\n",
      "Epoch 8/80\n",
      "38/38 [==============================] - 8s 214ms/step - loss: 0.7145 - accuracy: 0.5160 - val_loss: 0.7172 - val_accuracy: 0.5168\n",
      "Epoch 9/80\n",
      "38/38 [==============================] - 8s 213ms/step - loss: 0.7117 - accuracy: 0.5312 - val_loss: 0.7152 - val_accuracy: 0.5168\n",
      "Epoch 10/80\n",
      "38/38 [==============================] - 8s 201ms/step - loss: 0.7088 - accuracy: 0.5093 - val_loss: 0.7130 - val_accuracy: 0.5436\n",
      "Epoch 11/80\n",
      "38/38 [==============================] - 8s 219ms/step - loss: 0.7048 - accuracy: 0.5447 - val_loss: 0.7110 - val_accuracy: 0.5503\n",
      "Epoch 12/80\n",
      "38/38 [==============================] - 8s 216ms/step - loss: 0.7006 - accuracy: 0.5396 - val_loss: 0.7089 - val_accuracy: 0.5570\n",
      "Epoch 13/80\n",
      "38/38 [==============================] - 8s 215ms/step - loss: 0.6985 - accuracy: 0.5430 - val_loss: 0.7068 - val_accuracy: 0.5503\n",
      "Epoch 14/80\n",
      "38/38 [==============================] - 9s 225ms/step - loss: 0.6954 - accuracy: 0.5278 - val_loss: 0.7041 - val_accuracy: 0.5503\n",
      "Epoch 15/80\n",
      "38/38 [==============================] - 8s 215ms/step - loss: 0.6907 - accuracy: 0.5497 - val_loss: 0.7011 - val_accuracy: 0.5503\n",
      "Epoch 16/80\n",
      "38/38 [==============================] - 8s 216ms/step - loss: 0.6867 - accuracy: 0.5329 - val_loss: 0.6982 - val_accuracy: 0.5503\n",
      "Epoch 17/80\n",
      "38/38 [==============================] - 8s 215ms/step - loss: 0.6815 - accuracy: 0.5531 - val_loss: 0.6954 - val_accuracy: 0.5503\n",
      "Epoch 18/80\n",
      "38/38 [==============================] - 8s 216ms/step - loss: 0.6767 - accuracy: 0.5363 - val_loss: 0.6922 - val_accuracy: 0.5503\n",
      "Epoch 19/80\n",
      "38/38 [==============================] - 8s 215ms/step - loss: 0.6709 - accuracy: 0.5363 - val_loss: 0.6888 - val_accuracy: 0.5503\n",
      "Epoch 20/80\n",
      "38/38 [==============================] - 8s 214ms/step - loss: 0.6658 - accuracy: 0.5464 - val_loss: 0.6854 - val_accuracy: 0.5503\n",
      "Epoch 21/80\n",
      "38/38 [==============================] - 8s 214ms/step - loss: 0.6614 - accuracy: 0.5481 - val_loss: 0.6816 - val_accuracy: 0.5503\n",
      "Epoch 22/80\n",
      "38/38 [==============================] - 8s 215ms/step - loss: 0.6583 - accuracy: 0.5447 - val_loss: 0.6777 - val_accuracy: 0.5503\n",
      "Epoch 23/80\n",
      "38/38 [==============================] - 8s 216ms/step - loss: 0.6526 - accuracy: 0.5616 - val_loss: 0.6740 - val_accuracy: 0.5503\n",
      "Epoch 24/80\n",
      "38/38 [==============================] - 8s 215ms/step - loss: 0.6474 - accuracy: 0.5582 - val_loss: 0.6701 - val_accuracy: 0.5503\n",
      "Epoch 25/80\n",
      "38/38 [==============================] - 8s 216ms/step - loss: 0.6400 - accuracy: 0.5531 - val_loss: 0.6660 - val_accuracy: 0.5503\n",
      "Epoch 26/80\n",
      "38/38 [==============================] - 8s 216ms/step - loss: 0.6326 - accuracy: 0.5599 - val_loss: 0.6605 - val_accuracy: 0.5503\n",
      "Epoch 27/80\n",
      "38/38 [==============================] - 8s 218ms/step - loss: 0.6289 - accuracy: 0.5548 - val_loss: 0.6562 - val_accuracy: 0.5638\n",
      "Epoch 28/80\n",
      "38/38 [==============================] - 8s 216ms/step - loss: 0.6191 - accuracy: 0.5717 - val_loss: 0.6516 - val_accuracy: 0.5772\n",
      "Epoch 29/80\n",
      "38/38 [==============================] - 8s 215ms/step - loss: 0.6141 - accuracy: 0.5700 - val_loss: 0.6470 - val_accuracy: 0.5839\n",
      "Epoch 30/80\n",
      "38/38 [==============================] - 8s 215ms/step - loss: 0.6053 - accuracy: 0.5902 - val_loss: 0.6421 - val_accuracy: 0.5973\n",
      "Epoch 31/80\n",
      "38/38 [==============================] - 8s 218ms/step - loss: 0.6055 - accuracy: 0.5970 - val_loss: 0.6377 - val_accuracy: 0.6309\n",
      "Epoch 32/80\n",
      "38/38 [==============================] - 8s 220ms/step - loss: 0.5940 - accuracy: 0.6037 - val_loss: 0.6332 - val_accuracy: 0.6846\n",
      "Epoch 33/80\n",
      "38/38 [==============================] - 8s 223ms/step - loss: 0.5867 - accuracy: 0.6172 - val_loss: 0.6285 - val_accuracy: 0.7181\n",
      "Epoch 34/80\n",
      "38/38 [==============================] - 8s 216ms/step - loss: 0.5859 - accuracy: 0.6358 - val_loss: 0.6237 - val_accuracy: 0.7248\n",
      "Epoch 35/80\n",
      "38/38 [==============================] - 8s 215ms/step - loss: 0.5731 - accuracy: 0.6374 - val_loss: 0.6189 - val_accuracy: 0.7315\n",
      "Epoch 36/80\n",
      "38/38 [==============================] - 8s 220ms/step - loss: 0.5644 - accuracy: 0.6644 - val_loss: 0.6143 - val_accuracy: 0.7517\n",
      "Epoch 37/80\n",
      "38/38 [==============================] - 8s 219ms/step - loss: 0.5595 - accuracy: 0.6998 - val_loss: 0.6090 - val_accuracy: 0.7584\n",
      "Epoch 38/80\n",
      "38/38 [==============================] - 8s 214ms/step - loss: 0.5479 - accuracy: 0.7083 - val_loss: 0.6043 - val_accuracy: 0.7584\n",
      "Epoch 39/80\n",
      "38/38 [==============================] - 8s 214ms/step - loss: 0.5486 - accuracy: 0.7116 - val_loss: 0.5993 - val_accuracy: 0.7852\n",
      "Epoch 40/80\n",
      "38/38 [==============================] - 8s 216ms/step - loss: 0.5362 - accuracy: 0.7083 - val_loss: 0.5946 - val_accuracy: 0.7987\n",
      "Epoch 41/80\n",
      "38/38 [==============================] - 8s 216ms/step - loss: 0.5321 - accuracy: 0.7487 - val_loss: 0.5897 - val_accuracy: 0.7919\n",
      "Epoch 42/80\n",
      "38/38 [==============================] - 8s 215ms/step - loss: 0.5252 - accuracy: 0.7690 - val_loss: 0.5852 - val_accuracy: 0.7919\n",
      "Epoch 43/80\n",
      "38/38 [==============================] - 8s 220ms/step - loss: 0.5160 - accuracy: 0.7723 - val_loss: 0.5806 - val_accuracy: 0.7852\n",
      "Epoch 44/80\n",
      "38/38 [==============================] - 8s 222ms/step - loss: 0.5097 - accuracy: 0.7656 - val_loss: 0.5763 - val_accuracy: 0.7785\n",
      "Epoch 45/80\n",
      "38/38 [==============================] - 8s 216ms/step - loss: 0.5008 - accuracy: 0.8010 - val_loss: 0.5724 - val_accuracy: 0.7785\n",
      "Epoch 46/80\n",
      "38/38 [==============================] - 8s 215ms/step - loss: 0.5005 - accuracy: 0.8128 - val_loss: 0.5683 - val_accuracy: 0.7852\n",
      "Epoch 47/80\n",
      "38/38 [==============================] - 8s 216ms/step - loss: 0.4892 - accuracy: 0.8415 - val_loss: 0.5642 - val_accuracy: 0.7919\n",
      "Epoch 48/80\n",
      "38/38 [==============================] - 8s 215ms/step - loss: 0.4892 - accuracy: 0.8567 - val_loss: 0.5608 - val_accuracy: 0.8121\n",
      "Epoch 49/80\n",
      "38/38 [==============================] - 8s 219ms/step - loss: 0.4772 - accuracy: 0.8499 - val_loss: 0.5572 - val_accuracy: 0.8054\n",
      "Epoch 50/80\n",
      "38/38 [==============================] - 8s 215ms/step - loss: 0.4731 - accuracy: 0.8567 - val_loss: 0.5538 - val_accuracy: 0.7987\n",
      "Epoch 51/80\n",
      "38/38 [==============================] - 8s 216ms/step - loss: 0.4704 - accuracy: 0.8769 - val_loss: 0.5501 - val_accuracy: 0.8054\n",
      "Epoch 52/80\n",
      "38/38 [==============================] - 8s 216ms/step - loss: 0.4648 - accuracy: 0.8718 - val_loss: 0.5467 - val_accuracy: 0.7987\n",
      "Epoch 53/80\n",
      "38/38 [==============================] - 8s 216ms/step - loss: 0.4529 - accuracy: 0.9005 - val_loss: 0.5436 - val_accuracy: 0.7919\n",
      "Epoch 54/80\n",
      "38/38 [==============================] - 8s 217ms/step - loss: 0.4533 - accuracy: 0.8820 - val_loss: 0.5403 - val_accuracy: 0.7919\n",
      "Epoch 55/80\n",
      "38/38 [==============================] - 8s 217ms/step - loss: 0.4510 - accuracy: 0.9039 - val_loss: 0.5378 - val_accuracy: 0.7919\n",
      "Epoch 56/80\n",
      "38/38 [==============================] - 8s 218ms/step - loss: 0.4463 - accuracy: 0.8938 - val_loss: 0.5352 - val_accuracy: 0.8121\n",
      "Epoch 57/80\n",
      "38/38 [==============================] - 9s 225ms/step - loss: 0.4411 - accuracy: 0.9140 - val_loss: 0.5325 - val_accuracy: 0.8121\n",
      "Epoch 58/80\n"
     ]
    },
    {
     "name": "stdout",
     "output_type": "stream",
     "text": [
      "38/38 [==============================] - 8s 220ms/step - loss: 0.4339 - accuracy: 0.9174 - val_loss: 0.5297 - val_accuracy: 0.8054\n",
      "Epoch 59/80\n",
      "38/38 [==============================] - 8s 220ms/step - loss: 0.4293 - accuracy: 0.9207 - val_loss: 0.5270 - val_accuracy: 0.8054\n",
      "Epoch 60/80\n",
      "38/38 [==============================] - 8s 217ms/step - loss: 0.4222 - accuracy: 0.9376 - val_loss: 0.5244 - val_accuracy: 0.8188\n",
      "Epoch 61/80\n",
      "38/38 [==============================] - 8s 220ms/step - loss: 0.4223 - accuracy: 0.9444 - val_loss: 0.5224 - val_accuracy: 0.7919\n",
      "Epoch 62/80\n",
      "38/38 [==============================] - 8s 216ms/step - loss: 0.4163 - accuracy: 0.9325 - val_loss: 0.5200 - val_accuracy: 0.8121\n",
      "Epoch 63/80\n",
      "38/38 [==============================] - 8s 215ms/step - loss: 0.4137 - accuracy: 0.9309 - val_loss: 0.5179 - val_accuracy: 0.8188\n",
      "Epoch 64/80\n",
      "38/38 [==============================] - 8s 218ms/step - loss: 0.4105 - accuracy: 0.9562 - val_loss: 0.5163 - val_accuracy: 0.8054\n",
      "Epoch 65/80\n",
      "38/38 [==============================] - 8s 217ms/step - loss: 0.4058 - accuracy: 0.9427 - val_loss: 0.5141 - val_accuracy: 0.7987\n",
      "Epoch 66/80\n",
      "38/38 [==============================] - 8s 217ms/step - loss: 0.4053 - accuracy: 0.9646 - val_loss: 0.5106 - val_accuracy: 0.8188\n",
      "Epoch 67/80\n",
      "38/38 [==============================] - 8s 217ms/step - loss: 0.3960 - accuracy: 0.9663 - val_loss: 0.5091 - val_accuracy: 0.8121\n",
      "Epoch 68/80\n",
      "38/38 [==============================] - 8s 216ms/step - loss: 0.3954 - accuracy: 0.9646 - val_loss: 0.5080 - val_accuracy: 0.8121\n",
      "Epoch 69/80\n",
      "38/38 [==============================] - 8s 216ms/step - loss: 0.3904 - accuracy: 0.9663 - val_loss: 0.5064 - val_accuracy: 0.8054\n",
      "Epoch 70/80\n",
      "38/38 [==============================] - 8s 215ms/step - loss: 0.3884 - accuracy: 0.9696 - val_loss: 0.5051 - val_accuracy: 0.8054\n",
      "Epoch 71/80\n",
      "38/38 [==============================] - 8s 215ms/step - loss: 0.3855 - accuracy: 0.9798 - val_loss: 0.5034 - val_accuracy: 0.7987\n",
      "Epoch 72/80\n",
      "38/38 [==============================] - 8s 218ms/step - loss: 0.3777 - accuracy: 0.9730 - val_loss: 0.5011 - val_accuracy: 0.7987\n",
      "Epoch 73/80\n",
      "38/38 [==============================] - 8s 215ms/step - loss: 0.3790 - accuracy: 0.9798 - val_loss: 0.5005 - val_accuracy: 0.7987\n",
      "Epoch 74/80\n",
      "38/38 [==============================] - 8s 202ms/step - loss: 0.3688 - accuracy: 0.9747 - val_loss: 0.5007 - val_accuracy: 0.8255\n",
      "Epoch 75/80\n",
      "38/38 [==============================] - 8s 216ms/step - loss: 0.3651 - accuracy: 0.9730 - val_loss: 0.5004 - val_accuracy: 0.8121\n",
      "Epoch 76/80\n",
      "38/38 [==============================] - 8s 202ms/step - loss: 0.3561 - accuracy: 0.9764 - val_loss: 0.5021 - val_accuracy: 0.7852\n",
      "Epoch 77/80\n",
      "38/38 [==============================] - 8s 201ms/step - loss: 0.3360 - accuracy: 0.9646 - val_loss: 0.5060 - val_accuracy: 0.7718\n",
      "Epoch 78/80\n",
      "38/38 [==============================] - 8s 201ms/step - loss: 0.3109 - accuracy: 0.9663 - val_loss: 0.5405 - val_accuracy: 0.7517\n",
      "Epoch 79/80\n",
      "38/38 [==============================] - 8s 200ms/step - loss: 0.2723 - accuracy: 0.9612 - val_loss: 0.5559 - val_accuracy: 0.7651\n",
      "Epoch 80/80\n",
      "38/38 [==============================] - 8s 201ms/step - loss: 0.2135 - accuracy: 0.9629 - val_loss: 0.5700 - val_accuracy: 0.7718\n"
     ]
    }
   ],
   "source": [
    "EPOCHS = 80\n",
    "history = model.fit(\n",
    "    x= train_ds,\n",
    "    y = train_labels,\n",
    "    validation_data=(val_ds, val_labels),\n",
    "    batch_size=16,\n",
    "    epochs=EPOCHS,\n",
    "    callbacks=cbs\n",
    ")"
   ]
  },
  {
   "cell_type": "code",
   "execution_count": 38,
   "metadata": {
    "pycharm": {
     "name": "#%%\n"
    }
   },
   "outputs": [
    {
     "ename": "NameError",
     "evalue": "name 'model' is not defined",
     "output_type": "error",
     "traceback": [
      "\u001B[0;31m---------------------------------------------------------------------------\u001B[0m",
      "\u001B[0;31mNameError\u001B[0m                                 Traceback (most recent call last)",
      "\u001B[0;32m<ipython-input-38-a7ab210f85a1>\u001B[0m in \u001B[0;36m<module>\u001B[0;34m\u001B[0m\n\u001B[0;32m----> 1\u001B[0;31m \u001B[0;32mdel\u001B[0m \u001B[0mmodel\u001B[0m\u001B[0;34m\u001B[0m\u001B[0;34m\u001B[0m\u001B[0m\n\u001B[0m",
      "\u001B[0;31mNameError\u001B[0m: name 'model' is not defined"
     ]
    }
   ],
   "source": [
    "del model"
   ]
  },
  {
   "cell_type": "code",
   "execution_count": 12,
   "metadata": {
    "pycharm": {
     "name": "#%%\n"
    }
   },
   "outputs": [],
   "source": [
    "model2 = keras.models.load_model(\"audio_model_bidirectional_LSTM_overlap.h5\")\n",
    "\n",
    "model2.evaluate(val_ds)"
   ]
  }
 ],
 "metadata": {
  "kernelspec": {
   "display_name": "Python 3",
   "language": "python",
   "name": "python3"
  },
  "language_info": {
   "codemirror_mode": {
    "name": "ipython",
    "version": 3
   },
   "file_extension": ".py",
   "mimetype": "text/x-python",
   "name": "python",
   "nbconvert_exporter": "python",
   "pygments_lexer": "ipython3",
   "version": "3.6.9"
  }
 },
 "nbformat": 4,
 "nbformat_minor": 1
}