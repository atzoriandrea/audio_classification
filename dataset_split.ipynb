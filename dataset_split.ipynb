{
 "cells": [
  {
   "cell_type": "code",
   "execution_count": 1,
   "id": "450f8bf4",
   "metadata": {},
   "outputs": [],
   "source": [
    "import os\n",
    "def create_folder(folder_name):\n",
    "    path = os.getcwd()\n",
    "    n_f = path+\"/splitted_dataset\"+\"/\"+folder_name\n",
    "    try:\n",
    "        os.mkdir(n_f)\n",
    "    except OSError:\n",
    "        print (\"Creation of the directory %s failed\" % path)\n",
    "    else:\n",
    "        print (\"Successfully created the directory %s \" % path)\n",
    "        return n_f\n",
    "    return None"
   ]
  },
  {
   "cell_type": "code",
   "execution_count": 2,
   "id": "70fcf2e5",
   "metadata": {},
   "outputs": [],
   "source": [
    "import numpy as np\n",
    "def split(ds, labels: np.ndarray, perc):\n",
    "    split_point = int(np.ceil(len(ds)*perc))\n",
    "    test_dim = len(ds)-split_point\n",
    "    ones = 0\n",
    "    zeros = 0\n",
    "    train_inserted = 0\n",
    "    test_inserted = 0\n",
    "    train_ds = np.zeros((split_point,32,16516))\n",
    "    train_labels = np.zeros((split_point,), dtype=np.int64)\n",
    "    test_ds = np.zeros((test_dim, 32, 16516))\n",
    "    test_labels = np.zeros((test_dim,),  dtype=np.int64)\n",
    "    for data, label in zip(ds,labels):\n",
    "        if label == 0:\n",
    "            if zeros < np.ceil(split_point/2) and train_inserted < split_point:\n",
    "                train_ds[train_inserted] = data\n",
    "                train_labels[train_inserted] = label\n",
    "                zeros +=1\n",
    "                train_inserted += 1\n",
    "            else:\n",
    "                test_ds[test_inserted] = data\n",
    "                test_labels[test_inserted] = label\n",
    "                test_inserted += 1\n",
    "        if label == 1:\n",
    "            if ones < np.ceil(split_point/2) and train_inserted < split_point:\n",
    "                train_ds[train_inserted] = data\n",
    "                train_labels[train_inserted] = label\n",
    "                ones +=1\n",
    "                train_inserted += 1\n",
    "            else:\n",
    "                test_ds[test_inserted] = data\n",
    "                test_labels[test_inserted] = label\n",
    "                test_inserted += 1\n",
    "\n",
    "    return train_ds, train_labels, test_ds, test_labels"
   ]
  },
  {
   "cell_type": "code",
   "execution_count": 3,
   "id": "d6b88d2a",
   "metadata": {},
   "outputs": [],
   "source": [
    "def unison_shuffled_copies(a, b):\n",
    "    p = np.random.permutation(len(a))\n",
    "    return a[p], b[p]"
   ]
  },
  {
   "cell_type": "code",
   "execution_count": 4,
   "id": "6f655fdc",
   "metadata": {},
   "outputs": [],
   "source": [
    "dataset = np.load(\"dataset_overlap.npy\")\n",
    "classes = np.load(\"/home/andrea/Scrivania/MIVIA_ROAD_DB1/bin_classes.npy\")\n"
   ]
  },
  {
   "cell_type": "code",
   "execution_count": 5,
   "id": "66eef2f7",
   "metadata": {},
   "outputs": [],
   "source": [
    "shuffled_dataset, shuffled_labels = unison_shuffled_copies(dataset,classes)"
   ]
  },
  {
   "cell_type": "code",
   "execution_count": 6,
   "id": "47367025",
   "metadata": {},
   "outputs": [],
   "source": [
    "train_ds, train_labels, test_ds, test_labels = split(shuffled_dataset, shuffled_labels, 0.75)"
   ]
  },
  {
   "cell_type": "code",
   "execution_count": 7,
   "id": "cf8332ed",
   "metadata": {},
   "outputs": [
    {
     "name": "stdout",
     "output_type": "stream",
     "text": [
      "278\n",
      "279\n",
      "64\n",
      "121\n",
      "True\n",
      "True\n"
     ]
    }
   ],
   "source": [
    "print((train_labels == 0).sum())\n",
    "print((train_labels == 1).sum())\n",
    "print((test_labels == 0).sum())\n",
    "print((test_labels == 1).sum())\n",
    "print(len(train_ds)==len(train_labels))\n",
    "print(len(test_ds)==len(test_labels))"
   ]
  },
  {
   "cell_type": "code",
   "execution_count": 8,
   "id": "11a35fab",
   "metadata": {},
   "outputs": [],
   "source": [
    "folders = [\"fold1\",\"fold2\",\"fold3\",\"fold4\",\"fold5\"]"
   ]
  },
  {
   "cell_type": "code",
   "execution_count": 10,
   "id": "a1ded062",
   "metadata": {},
   "outputs": [],
   "source": [
    "def create_folds(num_folds, train_set, labels, test_set, test_labels):\n",
    "    chunk_size = int(len(train_set)/num_folds)\n",
    "    indexes = set(list(range(len(train_set))))\n",
    "    for i in range(num_folds):\n",
    "        folder = create_folder(folders[i])\n",
    "        if folder is None:\n",
    "            print(\"Errore\")\n",
    "            break\n",
    "        if i < num_folds-1:\n",
    "            val_ds_fold = train_set[chunk_size*i:chunk_size*(i+1)]\n",
    "            val_labels_fold = labels[chunk_size*i:chunk_size*(i+1)]\n",
    "            train_ds_fold = train_set[list(indexes.difference(list(range(chunk_size*i,chunk_size*(i+1)))))]\n",
    "            train_labels_fold = labels[list(indexes.difference(list(range(chunk_size*i,chunk_size*(i+1)))))]\n",
    "        else:\n",
    "            val_ds_fold = train_set[chunk_size*i:]\n",
    "            val_labels_fold = labels[chunk_size*i:]\n",
    "            train_ds_fold = train_set[:chunk_size*i]\n",
    "            train_labels_fold = labels[:chunk_size*i]\n",
    "        np.save(folder+'/train_ds.npy',train_ds_fold.astype(np.int16))\n",
    "        np.save(folder+'/train_labels.npy',train_labels_fold)\n",
    "        np.save(folder+'/val_ds.npy',val_ds_fold.astype(np.int16))\n",
    "        np.save(folder+'/val_labels.npy',val_labels_fold)\n",
    "    path = os.getcwd()\n",
    "    ds = path+\"/splitted_dataset/\"\n",
    "    np.save(ds+\"test_set.npy\", test_set.astype(np.int16))\n",
    "    np.save(ds+\"test_labels.npy\", test_labels)"
   ]
  },
  {
   "cell_type": "code",
   "execution_count": 11,
   "id": "62e65b4b",
   "metadata": {},
   "outputs": [
    {
     "name": "stdout",
     "output_type": "stream",
     "text": [
      "Successfully created the directory /home/andrea/Scrivania/RC_Carta \n",
      "Successfully created the directory /home/andrea/Scrivania/RC_Carta \n",
      "Successfully created the directory /home/andrea/Scrivania/RC_Carta \n",
      "Successfully created the directory /home/andrea/Scrivania/RC_Carta \n",
      "Successfully created the directory /home/andrea/Scrivania/RC_Carta \n"
     ]
    }
   ],
   "source": [
    "create_folds(5, train_ds, train_labels, test_ds, test_labels)"
   ]
  },
  {
   "cell_type": "code",
   "execution_count": null,
   "id": "ea324919",
   "metadata": {},
   "outputs": [],
   "source": []
  }
 ],
 "metadata": {
  "kernelspec": {
   "display_name": "Python 3",
   "language": "python",
   "name": "python3"
  },
  "language_info": {
   "codemirror_mode": {
    "name": "ipython",
    "version": 3
   },
   "file_extension": ".py",
   "mimetype": "text/x-python",
   "name": "python",
   "nbconvert_exporter": "python",
   "pygments_lexer": "ipython3",
   "version": "3.6.9"
  }
 },
 "nbformat": 4,
 "nbformat_minor": 5
}