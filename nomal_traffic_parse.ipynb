{
 "cells": [
  {
   "cell_type": "code",
   "execution_count": 15,
   "metadata": {
    "collapsed": true
   },
   "outputs": [],
   "source": [
    "import os\n",
    "\n",
    "import numpy as np\n",
    "from pydub import AudioSegment"
   ]
  },
  {
   "cell_type": "code",
   "execution_count": 6,
   "outputs": [],
   "source": [
    "wav_files = sorted(os.listdir(\"normal_wav\"))\n",
    "wav_ann = sorted(os.listdir(\"annotations\"))"
   ],
   "metadata": {
    "collapsed": false,
    "pycharm": {
     "name": "#%%\n"
    }
   }
  },
  {
   "cell_type": "code",
   "execution_count": 10,
   "outputs": [],
   "source": [
    "timers = []\n",
    "for ann in wav_ann:\n",
    "    file1 = open('annotations/'+ann, 'r')\n",
    "    Lines = file1.readlines()\n",
    "    t = []\n",
    "    for line in Lines:\n",
    "        data = line.split(\"\\t\")\n",
    "        start = float(data[0])\n",
    "        end = float(data[1])\n",
    "        duration = end - start\n",
    "        if 1.5 < duration < 3.5:\n",
    "            t.append((start, end))\n",
    "    timers.append(t)"
   ],
   "metadata": {
    "collapsed": false,
    "pycharm": {
     "name": "#%%\n"
    }
   }
  },
  {
   "cell_type": "code",
   "execution_count": 12,
   "outputs": [],
   "source": [
    "audio_chunks = []\n",
    "for i, audio in enumerate(wav_files):\n",
    "    newAudio = AudioSegment.from_wav(\"normal_wav/\"+audio)\n",
    "    for t in timers[i]:\n",
    "        start = t[0]\n",
    "        end = t[1]\n",
    "        audio_chunks.append(newAudio[start*1000:end*1000])"
   ],
   "metadata": {
    "collapsed": false,
    "pycharm": {
     "name": "#%%\n"
    }
   }
  },
  {
   "cell_type": "code",
   "execution_count": 13,
   "outputs": [],
   "source": [
    "for i, ac in enumerate(audio_chunks):\n",
    "    ac.export(\"chunks/\"+str(400+i)+\".wav\", format=\"wav\")"
   ],
   "metadata": {
    "collapsed": false,
    "pycharm": {
     "name": "#%%\n"
    }
   }
  },
  {
   "cell_type": "code",
   "execution_count": 17,
   "outputs": [],
   "source": [
    "labels = np.load(\"/home/andrea/Scrivania/MIVIA_ROAD_DB1/classes.npy\")"
   ],
   "metadata": {
    "collapsed": false,
    "pycharm": {
     "name": "#%%\n"
    }
   }
  },
  {
   "cell_type": "code",
   "execution_count": 20,
   "outputs": [],
   "source": [
    "new_l = np.zeros(342, dtype=np.int)"
   ],
   "metadata": {
    "collapsed": false,
    "pycharm": {
     "name": "#%%\n"
    }
   }
  },
  {
   "cell_type": "code",
   "execution_count": 27,
   "outputs": [],
   "source": [
    "tot_l = np.concatenate((labels, new_l))\n",
    "np.save(\"/home/andrea/Scrivania/MIVIA_ROAD_DB1/classes.npy\", tot_l)"
   ],
   "metadata": {
    "collapsed": false,
    "pycharm": {
     "name": "#%%\n"
    }
   }
  }
 ],
 "metadata": {
  "kernelspec": {
   "display_name": "Python 3",
   "language": "python",
   "name": "python3"
  },
  "language_info": {
   "codemirror_mode": {
    "name": "ipython",
    "version": 2
   },
   "file_extension": ".py",
   "mimetype": "text/x-python",
   "name": "python",
   "nbconvert_exporter": "python",
   "pygments_lexer": "ipython2",
   "version": "2.7.6"
  }
 },
 "nbformat": 4,
 "nbformat_minor": 0
}