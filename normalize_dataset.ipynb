{
 "cells": [
  {
   "cell_type": "code",
   "execution_count": 1,
   "metadata": {
    "collapsed": true
   },
   "outputs": [],
   "source": [
    "import os\n",
    "import numpy as np\n",
    "import numpy.matlib\n",
    "from scipy.io import wavfile\n",
    "from pydub import AudioSegment"
   ]
  },
  {
   "cell_type": "code",
   "execution_count": 2,
   "outputs": [],
   "source": [
    "files = os.listdir(\"/home/andrea/Scrivania/MIVIA_ROAD_DB1/splitted_dataset/\")\n",
    "for i,f in enumerate(files):\n",
    "    files[i] = \"/home/andrea/Scrivania/MIVIA_ROAD_DB1/splitted_dataset/\"+f\n",
    "files = sorted(files)"
   ],
   "metadata": {
    "collapsed": false,
    "pycharm": {
     "name": "#%%\n"
    }
   }
  },
  {
   "cell_type": "code",
   "execution_count": 20,
   "outputs": [],
   "source": [
    "maxlen = 0\n",
    "for f in files:\n",
    "    s = AudioSegment.from_file(f)\n",
    "    samples = s.get_array_of_samples()\n",
    "    if len(samples) > maxlen:\n",
    "        maxlen = len(samples)"
   ],
   "metadata": {
    "collapsed": false,
    "pycharm": {
     "name": "#%%\n"
    }
   }
  },
  {
   "cell_type": "code",
   "execution_count": 34,
   "outputs": [],
   "source": [
    "def fill(file, maxlength=264256):\n",
    "    if len(file) < maxlength:\n",
    "        complete = np.zeros((maxlength,))\n",
    "        filled = 0\n",
    "        while filled < maxlength:\n",
    "            if filled+len(file) < maxlength:\n",
    "                complete[filled:filled+len(file)] = file\n",
    "                filled+=len(file)\n",
    "            else:\n",
    "                complete[filled:] = file[:maxlength-filled]\n",
    "        return  complete\n",
    "    return file"
   ],
   "metadata": {
    "collapsed": false,
    "pycharm": {
     "name": "#%%\n"
    }
   }
  },
  {
   "cell_type": "code",
   "execution_count": null,
   "outputs": [],
   "source": [
    "noises = []\n",
    "def create_random_bg_noises():\n",
    "    import random\n",
    "    for _ in range(15):\n",
    "        audios = []\n",
    "        for _ in range(3):\n",
    "            chosen = None\n",
    "            num = str(random.randint(400, len(files)))\n",
    "            while chosen is None:\n",
    "                chosen = searchFile(num)\n",
    "            audios.append(chosen)\n",
    "        base = AudioSegment.from_file(audios[0])\n",
    "        base2 = base.overlay(AudioSegment.from_file(audios[1]))\n",
    "        base3 = base2.overlay(AudioSegment.from_file(audios[2]))\n",
    "        complete = fill(np.asarray(base3.get_array_of_samples()))\n",
    "        noises.append(AudioSegment(complete.tobytes(),\n",
    "                      frame_rate=base.frame_rate,\n",
    "                      sample_width=base.frame_width,\n",
    "                      channels=1))\n",
    "create_random_bg_noises()"
   ],
   "metadata": {
    "collapsed": false,
    "pycharm": {
     "name": "#%%\n",
     "is_executing": true
    }
   }
  },
  {
   "cell_type": "code",
   "execution_count": 30,
   "outputs": [],
   "source": [
    "def add_noise_and_normalize_length(file, noise, maxlength=264256):\n",
    "    new_audio = np.zeros((maxlength,))\n",
    "    stest = AudioSegment.from_file(file)\n",
    "    samples = np.asarray(stest.get_array_of_samples())\n",
    "    new_audio[:maxlength] = samples\n",
    "    s2 =  AudioSegment(new_audio.tobytes(),\n",
    "                      frame_rate=stest.frame_rate,\n",
    "                      sample_width=stest.frame_width,\n",
    "                      channels=1)\n",
    "    return s2.overlay(noise)"
   ],
   "metadata": {
    "collapsed": false,
    "pycharm": {
     "name": "#%%\n"
    }
   }
  },
  {
   "cell_type": "code",
   "execution_count": 31,
   "outputs": [
    {
     "data": {
      "text/plain": "True"
     },
     "execution_count": 31,
     "metadata": {},
     "output_type": "execute_result"
    }
   ],
   "source": [
    "stest == s2\n"
   ],
   "metadata": {
    "collapsed": false,
    "pycharm": {
     "name": "#%%\n"
    }
   }
  },
  {
   "cell_type": "code",
   "execution_count": 9,
   "outputs": [],
   "source": [
    "\n",
    "def searchFile(name):\n",
    "    for f in files:\n",
    "        splitted = os.path.split(f)\n",
    "        num, ext = splitted[-1].split(\".\")\n",
    "        if num == name:\n",
    "            return f"
   ],
   "metadata": {
    "collapsed": false,
    "pycharm": {
     "name": "#%%\n"
    }
   }
  },
  {
   "cell_type": "code",
   "execution_count": 7,
   "outputs": [],
   "source": [
    "def mix(audio1, audio2):\n",
    "    sound1 = AudioSegment.from_file(audio1)\n",
    "    sound2 = AudioSegment.from_file(audio2)\n",
    "    return sound1.overlay(sound2)"
   ],
   "metadata": {
    "collapsed": false,
    "pycharm": {
     "name": "#%%\n"
    }
   }
  },
  {
   "cell_type": "code",
   "execution_count": 10,
   "outputs": [],
   "source": [
    "s1 = AudioSegment.from_file(files[0])\n",
    "s2 = AudioSegment.from_file(files[1])\n",
    "s3 = mix(searchFile(\"0\"), searchFile(\"1\"))"
   ],
   "metadata": {
    "collapsed": false,
    "pycharm": {
     "name": "#%%\n"
    }
   }
  },
  {
   "cell_type": "code",
   "execution_count": 5,
   "outputs": [
    {
     "data": {
      "text/plain": "'/home/andrea/Scrivania/MIVIA_ROAD_DB1/splitted_dataset/89.wav'"
     },
     "execution_count": 5,
     "metadata": {},
     "output_type": "execute_result"
    }
   ],
   "source": [
    "files[730]"
   ],
   "metadata": {
    "collapsed": false,
    "pycharm": {
     "name": "#%%\n"
    }
   }
  },
  {
   "cell_type": "code",
   "execution_count": null,
   "outputs": [],
   "source": [
    "np_files = np.ndarray((len(files),))"
   ],
   "metadata": {
    "collapsed": false,
    "pycharm": {
     "name": "#%%\n"
    }
   }
  },
  {
   "cell_type": "code",
   "execution_count": 14,
   "outputs": [],
   "source": [
    "events, bg = [],[]\n",
    "np_classes = np.load(\"/home/andrea/Scrivania/MIVIA_ROAD_DB1/classes.npy\")\n",
    "\n",
    "for n in range(400):\n",
    "    events.append(searchFile(str(n)))\n",
    "for m in range(400,742):\n",
    "    bg.append(searchFile(str(m)))"
   ],
   "metadata": {
    "collapsed": false,
    "pycharm": {
     "name": "#%%\n"
    }
   }
  },
  {
   "cell_type": "code",
   "execution_count": 21,
   "outputs": [],
   "source": [
    "classes = []\n",
    "counter = 0\n",
    "for i, e in enumerate(events):\n",
    "    for j, b in enumerate(bg):\n",
    "        classes.append(np_classes[i])\n",
    "        new = mix(e,b)\n",
    "        new.export(\"/mnt/3206BFFF191E7F85/extended_dataset/\"+str(counter)+\".wav\", format='wav')\n",
    "        counter+=1\n",
    "for i, e in enumerate(bg):\n",
    "    for j, b in enumerate(bg):\n",
    "        classes.append(0)\n",
    "        new = mix(e,b)\n",
    "        new.export(\"/mnt/3206BFFF191E7F85/extended_dataset/\"+str(counter)+\".wav\", format='wav')\n",
    "        counter+=1\n",
    "classes_np = np.asarray(classes)"
   ],
   "metadata": {
    "collapsed": false,
    "pycharm": {
     "name": "#%%\n"
    }
   }
  },
  {
   "cell_type": "code",
   "execution_count": 20,
   "outputs": [],
   "source": [
    "np.save(\"/home/andrea/Scrivania/MIVIA_ROAD_DB1/splitted_dataset/classes_ext.npy\", classes_np)"
   ],
   "metadata": {
    "collapsed": false,
    "pycharm": {
     "name": "#%%\n"
    }
   }
  }
 ],
 "metadata": {
  "kernelspec": {
   "display_name": "Python 3",
   "language": "python",
   "name": "python3"
  },
  "language_info": {
   "codemirror_mode": {
    "name": "ipython",
    "version": 2
   },
   "file_extension": ".py",
   "mimetype": "text/x-python",
   "name": "python",
   "nbconvert_exporter": "python",
   "pygments_lexer": "ipython2",
   "version": "2.7.6"
  }
 },
 "nbformat": 4,
 "nbformat_minor": 0
}