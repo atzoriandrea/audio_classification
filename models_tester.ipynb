{
 "cells": [
  {
   "cell_type": "code",
   "execution_count": 1,
   "metadata": {
    "collapsed": true
   },
   "outputs": [
    {
     "name": "stdout",
     "output_type": "stream",
     "text": [
      "2.3.2\n"
     ]
    }
   ],
   "source": [
    "import numpy as np\n",
    "import tensorflow as tf\n",
    "\n",
    "\n",
    "print(tf.__version__)\n",
    "physical_devices = tf.config.list_physical_devices('GPU')\n",
    "tf.config.experimental.set_memory_growth(physical_devices[0], enable=True)\n",
    "\n",
    "def normalize(array, std_dev, mean, scale):\n",
    "    array = array/scale\n",
    "    return array-mean/std_dev\n",
    "\n",
    "folders = [\"fold1\",\"fold2\",\"fold3\",\"fold4\",\"fold5\"]"
   ]
  },
  {
   "cell_type": "markdown",
   "source": [
    "MODELS"
   ],
   "metadata": {
    "collapsed": false
   }
  },
  {
   "cell_type": "code",
   "execution_count": 4,
   "outputs": [],
   "source": [
    "from tensorflow.keras.layers import LSTM, Dense, Dropout, InputLayer, GRU, LSTMCell, RNN, Bidirectional\n",
    "from tensorflow import keras\n",
    "from tensorflow.keras import  regularizers\n",
    "def get_model(index):\n",
    "    input_shape=(32,16516)\n",
    "    if index == 1:\n",
    "        model1 = keras.Sequential()\n",
    "        model1.add(InputLayer(input_shape=input_shape))\n",
    "        model1.add(Dense(4096, activation='relu'))\n",
    "        model1.add(Dropout(0.2))\n",
    "        model1.add(Dense(2048, activation='relu'))\n",
    "        model1.add(Dropout(0.2))\n",
    "        model1.add(Dense(1024, activation='relu'))\n",
    "        model1.add(Dropout(0.2))\n",
    "        model1.add(Dense(512, activation='relu'))\n",
    "        model1.add(Dropout(0.2))\n",
    "        model1.add(Dense(256, activation='relu'))\n",
    "        model1.add(Dropout(0.2))\n",
    "        model1.add(Bidirectional(LSTM(192, input_shape=input_shape,\n",
    "                                     kernel_regularizer=regularizers.l2(0.00001),\n",
    "                                         recurrent_regularizer=regularizers.l2(0.00001),\n",
    "                                         bias_regularizer=regularizers.l2(0.00001),\n",
    "                                     recurrent_dropout=0.3)))\n",
    "        model1.add(Dropout(0.4))\n",
    "        model1.add(Dense(128, activation='relu'))\n",
    "        model1.add(Dropout(0.3))\n",
    "        model1.add(Dense(64, activation='relu'))\n",
    "        model1.add(Dropout(0.3))\n",
    "        model1.add(Dense(32, activation='relu'))\n",
    "        model1.add(Dropout(0.2))\n",
    "        model1.add(Dense(1, activation='sigmoid'))\n",
    "        model1.summary()\n",
    "        return model1\n",
    "    if index==2:\n",
    "        model2 = keras.Sequential()\n",
    "        model2.add(InputLayer(input_shape=input_shape))\n",
    "        model2.add(Dense(4096, activation='relu'))\n",
    "        model2.add(Dropout(0.2))\n",
    "        model2.add(Dense(2048, activation='relu'))\n",
    "        model2.add(Dropout(0.2))\n",
    "        model2.add(Dense(1024, activation='relu'))\n",
    "        model2.add(Dropout(0.2))\n",
    "        model2.add(Dense(512, activation='relu'))\n",
    "        model2.add(Dropout(0.2))\n",
    "        model2.add(Dense(256, activation='relu'))\n",
    "        model2.add(Dropout(0.2))\n",
    "        model2.add(Bidirectional(LSTM(192, input_shape=input_shape,\n",
    "                                     kernel_regularizer=regularizers.l2(0.00001),\n",
    "                                         recurrent_regularizer=regularizers.l2(0.00001),\n",
    "                                         bias_regularizer=regularizers.l2(0.00001),\n",
    "                                     recurrent_dropout=0.4)))\n",
    "        model2.add(Dropout(0.4))\n",
    "        model2.add(Dense(128, activation='relu'))\n",
    "        model2.add(Dropout(0.4))\n",
    "        model2.add(Dense(64, activation='relu'))\n",
    "        model2.add(Dropout(0.4))\n",
    "        model2.add(Dense(32, activation='relu'))\n",
    "        model2.add(Dropout(0.4))\n",
    "        model2.add(Dense(1, activation='sigmoid'))\n",
    "        model2.summary()\n",
    "        return model2\n",
    "    if index==3:\n",
    "        model3 = keras.Sequential()\n",
    "        model3.add(InputLayer(input_shape=input_shape))\n",
    "        model3.add(Dense(4096, activation='relu'))\n",
    "        model3.add(Dropout(0.2))\n",
    "        model3.add(Dense(2048, activation='relu'))\n",
    "        model3.add(Dropout(0.2))\n",
    "        model3.add(Dense(1024, activation='relu'))\n",
    "        model3.add(Dropout(0.2))\n",
    "        model3.add(Dense(512, activation='relu'))\n",
    "        model3.add(Dropout(0.2))\n",
    "        model3.add(Dense(256, activation='relu'))\n",
    "        model3.add(Dropout(0.2))\n",
    "        model3.add(LSTM(128, input_shape=input_shape,\n",
    "                                     kernel_regularizer=regularizers.l2(0.00001),\n",
    "                                         recurrent_regularizer=regularizers.l2(0.00001),\n",
    "                                         bias_regularizer=regularizers.l2(0.00001),\n",
    "                                     recurrent_dropout=0.4))\n",
    "        model3.add(Dropout(0.3))\n",
    "        model3.add(Dense(64, activation='relu'))\n",
    "        model3.add(Dropout(0.3))\n",
    "        model3.add(Dense(32, activation='relu'))\n",
    "        model3.add(Dropout(0.2))\n",
    "        model3.add(Dense(1, activation='sigmoid'))\n",
    "        model3.summary()\n",
    "        return model3\n",
    "\n",
    "    if index==4:\n",
    "        model4 = keras.Sequential()\n",
    "        model4.add(InputLayer(input_shape=input_shape))\n",
    "        model4.add(Dense(4096, activation='relu'))\n",
    "        model4.add(Dropout(0.2))\n",
    "        model4.add(Dense(2048, activation='relu'))\n",
    "        model4.add(Dropout(0.2))\n",
    "        model4.add(Dense(1024, activation='relu'))\n",
    "        model4.add(Dropout(0.2))\n",
    "        model4.add(Dense(512, activation='relu'))\n",
    "        model4.add(Dropout(0.2))\n",
    "        model4.add(Dense(256, activation='relu'))\n",
    "        model4.add(Dropout(0.2))\n",
    "        model4.add(LSTM(96, input_shape=input_shape,\n",
    "                                     kernel_regularizer=regularizers.l2(0.000001),\n",
    "                                         recurrent_regularizer=regularizers.l2(0.000001),\n",
    "                                         bias_regularizer=regularizers.l2(0.000001),\n",
    "                                     recurrent_dropout=0.4))\n",
    "        model4.add(Dropout(0.4))\n",
    "        model4.add(Dense(64, activation='relu'))\n",
    "        model4.add(Dropout(0.4))\n",
    "        model4.add(Dense(32, activation='relu'))\n",
    "        model4.add(Dropout(0.2))\n",
    "        model4.add(Dense(1, activation='sigmoid'))\n",
    "        model4.summary()\n",
    "        return model4\n",
    "    if index == 5:\n",
    "        model5 = keras.Sequential()\n",
    "        model5.add(InputLayer(input_shape=input_shape))\n",
    "        model5.add(Dense(4096, activation='relu'))\n",
    "        model5.add(Dropout(0.2))\n",
    "        model5.add(Dense(2048, activation='relu'))\n",
    "        model5.add(Dropout(0.2))\n",
    "        model5.add(Dense(1024, activation='relu'))\n",
    "        model5.add(Dropout(0.2))\n",
    "        model5.add(Dense(512, activation='relu'))\n",
    "        model5.add(Dropout(0.2))\n",
    "        model5.add(Dense(256, activation='relu'))\n",
    "        model5.add(Dropout(0.2))\n",
    "        model5.add(Dense(128, activation='relu'))\n",
    "        model5.add(Dropout(0.2))\n",
    "        model5.add(LSTM(64, input_shape=input_shape,\n",
    "                                     kernel_regularizer=regularizers.l2(0.00005),\n",
    "                                         recurrent_regularizer=regularizers.l2(0.00005),\n",
    "                                         bias_regularizer=regularizers.l2(0.00005),\n",
    "                                     recurrent_dropout=0.4))\n",
    "        model5.add(Dropout(0.4))\n",
    "        model5.add(Dense(64, activation='relu'))\n",
    "        model5.add(Dropout(0.4))\n",
    "        model5.add(Dense(32, activation='relu'))\n",
    "        model5.add(Dropout(0.3))\n",
    "        model5.add(Dense(1, activation='sigmoid'))\n",
    "        model5.summary()\n",
    "        return model5\n"
   ],
   "metadata": {
    "collapsed": false,
    "pycharm": {
     "name": "#%%\n"
    }
   }
  },
  {
   "cell_type": "code",
   "execution_count": 7,
   "outputs": [
    {
     "ename": "NameError",
     "evalue": "name 'model1' is not defined",
     "output_type": "error",
     "traceback": [
      "\u001B[0;31m---------------------------------------------------------------------------\u001B[0m",
      "\u001B[0;31mNameError\u001B[0m                                 Traceback (most recent call last)",
      "\u001B[0;32m<ipython-input-7-14529f449c1f>\u001B[0m in \u001B[0;36m<module>\u001B[0;34m\u001B[0m\n\u001B[0;32m----> 1\u001B[0;31m \u001B[0;32mdel\u001B[0m \u001B[0mmodel1\u001B[0m\u001B[0;34m,\u001B[0m \u001B[0mmodel2\u001B[0m\u001B[0;34m,\u001B[0m \u001B[0mmodel3\u001B[0m\u001B[0;34m,\u001B[0m \u001B[0mmodel4\u001B[0m\u001B[0;34m,\u001B[0m \u001B[0mmodel5\u001B[0m\u001B[0;34m,\u001B[0m \u001B[0mmodels\u001B[0m\u001B[0;34m\u001B[0m\u001B[0;34m\u001B[0m\u001B[0m\n\u001B[0m",
      "\u001B[0;31mNameError\u001B[0m: name 'model1' is not defined"
     ]
    }
   ],
   "source": [
    "import seaborn as sn\n",
    "import pandas as pd\n",
    "import matplotlib.pyplot as plt\n",
    "import os\n",
    "def confusion_matrices(tn, fp, fn, tp, fold, model_index, test_type):\n",
    "    path = os.getcwd()\n",
    "    path = path+\"/splitted_dataset\"+\"/\"\n",
    "    array = [[tp, fp], [fn, tn]]\n",
    "    df_cm = pd.DataFrame(array, index = [\"Pred Abnormal\", \"Pred Normal\"],\n",
    "                      columns = [\"True Abnormal\", \"True Normal\"])\n",
    "    plt.figure(figsize = (10,7))\n",
    "    fig = sn.heatmap(df_cm, annot=True, fmt=\"d\")\n",
    "    fig.get_figure().savefig(path+fold+\"/\"+\"confMat_model\"+str(model_index)+test_type+'.png', dpi=400)"
   ],
   "metadata": {
    "collapsed": false,
    "pycharm": {
     "name": "#%%\n"
    }
   }
  },
  {
   "cell_type": "code",
   "execution_count": null,
   "outputs": [],
   "source": [
    "def get_results(model, data, labels_true, fold, model_index, test_type):\n",
    "    predictions = model.predict_classes(data).flatten()\n",
    "    tp, fp, tn, fn = 0,0,0,0\n",
    "    for y_true, y_pred in zip(labels_true, predictions):\n",
    "        if y_true == 1 and y_pred == 1:\n",
    "            tp+=1\n",
    "        if y_true == 0 and y_pred == 0:\n",
    "            tn+=1\n",
    "        if y_true == 1 and y_pred == 0:\n",
    "            fn+=1\n",
    "        if y_true == 0 and y_pred == 1:\n",
    "            fp+=1\n",
    "    positives = (labels_true == 1).sum()\n",
    "    negatives = (labels_true == 0).sum()\n",
    "    print(\"tp: \" +str(round((tp/positives)*100,2)) + \"%\" +\n",
    "          \"  tn: \" +str(round((tn/negatives)*100,2)) + \"%\" +\n",
    "          \"  fp: \" +str(round((fp/negatives)*100,2)) + \"%\" +\n",
    "          \"  fn: \" +str(round((fn/positives)*100,2)) + \"%\")\n",
    "    confusion_matrices(tn,fp,fn,tn, fold, model_index, test_type)"
   ],
   "metadata": {
    "collapsed": false,
    "pycharm": {
     "name": "#%%\n"
    }
   }
  },
  {
   "cell_type": "code",
   "execution_count": null,
   "outputs": [],
   "source": [
    "def test():\n",
    "    path = os.getcwd()\n",
    "    path = path+\"/splitted_dataset\"+\"/\"\n",
    "    test_set = np.load(path+\"test_set.npy\")\n",
    "    test_labels = np.load(path+\"test_labels.npy\")\n",
    "    for fold in folders:\n",
    "        curr_path = path+fold+\"/\"\n",
    "        train_set = np.load(curr_path+\"train_set.npy\")\n",
    "        train_labels = np.load(curr_path+\"train_labels.npy\")\n",
    "        validation_set = np.load(curr_path+\"val_set.npy\")\n",
    "        validation_labels = np.load(curr_path+\"val_labels.npy\")\n",
    "        for model_index in range(5):\n",
    "            model = get_model(model_index+1)\n",
    "            filepath = curr_path+\"model\"+str(model_index+1)+\".h5\"\n",
    "            cb1 = tf.keras.callbacks.ModelCheckpoint(\n",
    "                filepath, monitor='val_loss', verbose=0, save_best_only=True,\n",
    "                save_weights_only=False, mode='auto', save_freq='epoch',\n",
    "                options=None\n",
    "            )\n",
    "            cb2 = tf.keras.callbacks.EarlyStopping(monitor='val_loss', patience=15)\n",
    "            cbs = [cb1,cb2]\n",
    "            model.compile(\n",
    "                optimizer=tf.keras.optimizers.Adam(learning_rate=0.00005),\n",
    "                loss=tf.keras.losses.BinaryCrossentropy(),\n",
    "                metrics=['accuracy']\n",
    "            )\n",
    "            EPOCHS = 70\n",
    "            history = model.fit(\n",
    "                x= train_set,\n",
    "                y = train_labels,\n",
    "                validation_data=(validation_set, validation_labels),\n",
    "                batch_size=16,\n",
    "                epochs=EPOCHS,\n",
    "                callbacks=cbs\n",
    "            )\n",
    "            del model\n",
    "            model = keras.models.load_model(filepath)\n",
    "            np.save(curr_path+'history_model'+str(model_index+1)+'npy',history.history)\n",
    "            get_results(model, train_set, train_labels, fold, model_index+1, \"train\")\n",
    "            get_results(model, validation_set, validation_labels, fold, model_index+1, \"validation\")\n",
    "            get_results(model, test_set, test_labels, fold, model_index+1, \"test\")\n",
    "            del model"
   ],
   "metadata": {
    "collapsed": false,
    "pycharm": {
     "name": "#%%\n"
    }
   }
  },
  {
   "cell_type": "code",
   "execution_count": null,
   "outputs": [],
   "source": [],
   "metadata": {
    "collapsed": false,
    "pycharm": {
     "name": "#%%\n"
    }
   }
  }
 ],
 "metadata": {
  "kernelspec": {
   "display_name": "Python 3",
   "language": "python",
   "name": "python3"
  },
  "language_info": {
   "codemirror_mode": {
    "name": "ipython",
    "version": 2
   },
   "file_extension": ".py",
   "mimetype": "text/x-python",
   "name": "python",
   "nbconvert_exporter": "python",
   "pygments_lexer": "ipython2",
   "version": "2.7.6"
  }
 },
 "nbformat": 4,
 "nbformat_minor": 0
}