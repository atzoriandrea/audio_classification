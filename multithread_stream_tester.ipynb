{
 "cells": [
  {
   "cell_type": "code",
   "execution_count": 1,
   "metadata": {
    "collapsed": true
   },
   "outputs": [],
   "source": [
    "import os\n",
    "import pyaudio\n",
    "import wave\n",
    "from tensorflow import keras\n",
    "import  numpy as np\n",
    "from threading import Thread, enumerate\n",
    "from queue import Queue"
   ]
  },
  {
   "cell_type": "code",
   "execution_count": 2,
   "outputs": [],
   "source": [
    "audio_queue = Queue()\n",
    "samples_queue = Queue()"
   ],
   "metadata": {
    "collapsed": false,
    "pycharm": {
     "name": "#%%\n"
    }
   }
  },
  {
   "cell_type": "code",
   "execution_count": 3,
   "outputs": [
    {
     "name": "stdout",
     "output_type": "stream",
     "text": [
      "WARNING:tensorflow:Layer lstm_7 will not use cuDNN kernel since it doesn't meet the cuDNN kernel criteria. It will use generic GPU kernel as fallback when running on GPU\n",
      "WARNING:tensorflow:Layer lstm_7 will not use cuDNN kernel since it doesn't meet the cuDNN kernel criteria. It will use generic GPU kernel as fallback when running on GPU\n",
      "WARNING:tensorflow:Layer lstm_7 will not use cuDNN kernel since it doesn't meet the cuDNN kernel criteria. It will use generic GPU kernel as fallback when running on GPU\n"
     ]
    }
   ],
   "source": [
    "model = keras.models.load_model(\"audio_model_bidirectional_LSTM_overlap.h5\")\n",
    "\n",
    "dataset = np.load(\"dataset_overlap.npy\")\n",
    "std_dev = np.std(dataset)\n",
    "mean = np.mean(dataset)\n",
    "maximum = np.max(dataset)\n",
    "min = np.min(dataset)\n",
    "scale = max(maximum, abs(min))\n",
    "\n",
    "def normalize(array, std_dev, mean, scale):\n",
    "    array = array/scale\n",
    "    return array-mean/std_dev"
   ],
   "metadata": {
    "collapsed": false,
    "pycharm": {
     "name": "#%%\n"
    }
   }
  },
  {
   "cell_type": "code",
   "execution_count": 4,
   "outputs": [
    {
     "name": "stdout",
     "output_type": "stream",
     "text": [
      "{'index': 0, 'structVersion': 2, 'name': 'HDA NVidia: HDMI 0 (hw:0,3)', 'hostApi': 0, 'maxInputChannels': 0, 'maxOutputChannels': 8, 'defaultLowInputLatency': -1.0, 'defaultLowOutputLatency': 0.005804988662131519, 'defaultHighInputLatency': -1.0, 'defaultHighOutputLatency': 0.034829931972789115, 'defaultSampleRate': 44100.0}\n",
      "{'index': 1, 'structVersion': 2, 'name': 'HDA NVidia: HDMI 1 (hw:0,7)', 'hostApi': 0, 'maxInputChannels': 0, 'maxOutputChannels': 8, 'defaultLowInputLatency': -1.0, 'defaultLowOutputLatency': 0.005804988662131519, 'defaultHighInputLatency': -1.0, 'defaultHighOutputLatency': 0.034829931972789115, 'defaultSampleRate': 44100.0}\n",
      "{'index': 2, 'structVersion': 2, 'name': 'HDA NVidia: HDMI 2 (hw:0,8)', 'hostApi': 0, 'maxInputChannels': 0, 'maxOutputChannels': 2, 'defaultLowInputLatency': -1.0, 'defaultLowOutputLatency': 0.005804988662131519, 'defaultHighInputLatency': -1.0, 'defaultHighOutputLatency': 0.034829931972789115, 'defaultSampleRate': 44100.0}\n",
      "{'index': 3, 'structVersion': 2, 'name': 'HDA NVidia: HDMI 3 (hw:0,9)', 'hostApi': 0, 'maxInputChannels': 0, 'maxOutputChannels': 8, 'defaultLowInputLatency': -1.0, 'defaultLowOutputLatency': 0.005804988662131519, 'defaultHighInputLatency': -1.0, 'defaultHighOutputLatency': 0.034829931972789115, 'defaultSampleRate': 44100.0}\n",
      "{'index': 4, 'structVersion': 2, 'name': 'HD-Audio Generic: ALC892 Analog (hw:1,0)', 'hostApi': 0, 'maxInputChannels': 2, 'maxOutputChannels': 8, 'defaultLowInputLatency': 0.005804988662131519, 'defaultLowOutputLatency': 0.005804988662131519, 'defaultHighInputLatency': 0.034829931972789115, 'defaultHighOutputLatency': 0.034829931972789115, 'defaultSampleRate': 44100.0}\n",
      "{'index': 5, 'structVersion': 2, 'name': 'HD-Audio Generic: ALC892 Alt Analog (hw:1,2)', 'hostApi': 0, 'maxInputChannels': 2, 'maxOutputChannels': 0, 'defaultLowInputLatency': 0.005804988662131519, 'defaultLowOutputLatency': -1.0, 'defaultHighInputLatency': 0.034829931972789115, 'defaultHighOutputLatency': -1.0, 'defaultSampleRate': 44100.0}\n",
      "{'index': 6, 'structVersion': 2, 'name': 'webcam: USB Audio (hw:3,0)', 'hostApi': 0, 'maxInputChannels': 1, 'maxOutputChannels': 0, 'defaultLowInputLatency': 0.007979166666666667, 'defaultLowOutputLatency': -1.0, 'defaultHighInputLatency': 0.032, 'defaultHighOutputLatency': -1.0, 'defaultSampleRate': 48000.0}\n",
      "{'index': 7, 'structVersion': 2, 'name': 'hdmi', 'hostApi': 0, 'maxInputChannels': 0, 'maxOutputChannels': 8, 'defaultLowInputLatency': -1.0, 'defaultLowOutputLatency': 0.005804988662131519, 'defaultHighInputLatency': -1.0, 'defaultHighOutputLatency': 0.034829931972789115, 'defaultSampleRate': 44100.0}\n",
      "{'index': 8, 'structVersion': 2, 'name': 'pulse', 'hostApi': 0, 'maxInputChannels': 32, 'maxOutputChannels': 32, 'defaultLowInputLatency': 0.008707482993197279, 'defaultLowOutputLatency': 0.008707482993197279, 'defaultHighInputLatency': 0.034829931972789115, 'defaultHighOutputLatency': 0.034829931972789115, 'defaultSampleRate': 44100.0}\n",
      "{'index': 9, 'structVersion': 2, 'name': 'default', 'hostApi': 0, 'maxInputChannels': 32, 'maxOutputChannels': 32, 'defaultLowInputLatency': 0.008707482993197279, 'defaultLowOutputLatency': 0.008707482993197279, 'defaultHighInputLatency': 0.034829931972789115, 'defaultHighOutputLatency': 0.034829931972789115, 'defaultSampleRate': 44100.0}\n"
     ]
    }
   ],
   "source": [
    "CHUNK = 1024\n",
    "FORMAT = pyaudio.paInt16\n",
    "CHANNELS = 1\n",
    "RATE = 44100\n",
    "p = pyaudio.PyAudio()\n",
    "for i in range(p.get_device_count()):\n",
    "    print(p.get_device_info_by_index(i))\n",
    "SPEAKERS = p.get_default_output_device_info()[\"hostApi\"] #The modified part\n",
    "\n",
    "p = pyaudio.PyAudio()\n",
    "stream = p.open(format=FORMAT,\n",
    "                channels=CHANNELS,\n",
    "                rate=RATE,\n",
    "                input=True,\n",
    "                input_host_api_specific_stream_info=SPEAKERS,\n",
    "                frames_per_buffer=CHUNK)"
   ],
   "metadata": {
    "collapsed": false,
    "pycharm": {
     "name": "#%%\n"
    }
   }
  },
  {
   "cell_type": "code",
   "execution_count": 5,
   "outputs": [],
   "source": [
    "frames = []\n",
    "\n",
    "\n",
    "def audio_listener():\n",
    "    global frames\n",
    "    while True:\n",
    "        data = stream.read(CHUNK, exception_on_overflow=False)\n",
    "        frames.append(data)"
   ],
   "metadata": {
    "collapsed": false,
    "pycharm": {
     "name": "#%%\n"
    }
   }
  },
  {
   "cell_type": "code",
   "execution_count": 6,
   "outputs": [],
   "source": [
    "def audio_normalizer():\n",
    "    global frames\n",
    "    add = False\n",
    "    filled = 0\n",
    "    window = np.zeros((1, 32, 16516))\n",
    "    batch = 128\n",
    "    batch_matrix = np.zeros((batch, 32, 16516))\n",
    "    last_added = 0\n",
    "    while True:\n",
    "        l = len(frames)\n",
    "        if CHUNK * l >= 16384:\n",
    "            s_arr = np.zeros((1, 1, 16516), dtype=np.int16)\n",
    "            cnk = frames[:16]\n",
    "            s_arr[0, 0, :16384] = np.frombuffer(b''.join(cnk), dtype=np.int16)\n",
    "            del frames[:8]\n",
    "            add = True\n",
    "        if filled <= 31 and add:\n",
    "            window[0, filled, :] = normalize(s_arr[0, 0, :], std_dev, mean, scale)\n",
    "            filled += 1\n",
    "            add = False\n",
    "\n",
    "        elif filled > 31 and add:\n",
    "            window = np.hstack((np.delete(window, 0, 1), normalize(s_arr, std_dev, mean, scale)))\n",
    "            batch_matrix[last_added, :, :] = window[0, :, :]\n",
    "            last_added = (last_added + 1) % batch\n",
    "            if last_added == batch-1:\n",
    "                audio_queue.put(batch_matrix)"
   ],
   "metadata": {
    "collapsed": false,
    "pycharm": {
     "name": "#%%\n"
    }
   }
  },
  {
   "cell_type": "code",
   "execution_count": 7,
   "outputs": [],
   "source": [
    "def audio_predictor():\n",
    "    import sys\n",
    "    while True:\n",
    "        q_s = audio_queue.qsize()\n",
    "        if q_s > 0:\n",
    "            batch = audio_queue.get_nowait()\n",
    "            print(batch.shape)\n",
    "            sys.stdout.write(str(np.max(np.argmax(model.predict(batch), axis=-1))))\n",
    "            del batch"
   ],
   "metadata": {
    "collapsed": false,
    "pycharm": {
     "name": "#%%\n"
    }
   }
  },
  {
   "cell_type": "code",
   "execution_count": 8,
   "outputs": [
    {
     "name": "stdout",
     "output_type": "stream",
     "text": [
      "(128, 32, 16516)\n",
      "0(128, 32, 16516)\n",
      "0(128, 32, 16516)\n",
      "0(128, 32, 16516)\n",
      "0(128, 32, 16516)\n",
      "0(128, 32, 16516)\n",
      "0(128, 32, 16516)\n",
      "0(128, 32, 16516)\n",
      "0(128, 32, 16516)\n",
      "0(128, 32, 16516)\n",
      "0(128, 32, 16516)\n",
      "0(128, 32, 16516)\n",
      "0(128, 32, 16516)\n",
      "0(128, 32, 16516)\n",
      "0(128, 32, 16516)\n",
      "0(128, 32, 16516)\n",
      "0(128, 32, 16516)\n",
      "0(128, 32, 16516)\n",
      "0(128, 32, 16516)\n",
      "0(128, 32, 16516)\n",
      "0(128, 32, 16516)\n",
      "0(128, 32, 16516)\n",
      "0(128, 32, 16516)\n",
      "0(128, 32, 16516)\n",
      "0(128, 32, 16516)\n",
      "0(128, 32, 16516)\n",
      "0(128, 32, 16516)\n",
      "0(128, 32, 16516)\n",
      "0(128, 32, 16516)\n",
      "0(128, 32, 16516)\n",
      "0(128, 32, 16516)\n",
      "0(128, 32, 16516)\n",
      "0(128, 32, 16516)\n",
      "0(128, 32, 16516)\n",
      "0(128, 32, 16516)\n",
      "0(128, 32, 16516)\n",
      "0(128, 32, 16516)\n",
      "0(128, 32, 16516)\n",
      "0(128, 32, 16516)\n",
      "0(128, 32, 16516)\n",
      "0(128, 32, 16516)\n",
      "0(128, 32, 16516)\n",
      "0(128, 32, 16516)\n",
      "0(128, 32, 16516)\n",
      "0(128, 32, 16516)\n",
      "0(128, 32, 16516)\n",
      "0(128, 32, 16516)\n",
      "0(128, 32, 16516)\n",
      "0(128, 32, 16516)\n",
      "0(128, 32, 16516)\n",
      "0(128, 32, 16516)\n",
      "0(128, 32, 16516)\n",
      "0(128, 32, 16516)\n",
      "0(128, 32, 16516)\n",
      "0(128, 32, 16516)\n",
      "0(128, 32, 16516)\n",
      "0(128, 32, 16516)\n",
      "0(128, 32, 16516)\n",
      "0(128, 32, 16516)\n",
      "0(128, 32, 16516)\n",
      "0(128, 32, 16516)\n",
      "0(128, 32, 16516)\n",
      "0(128, 32, 16516)\n",
      "0(128, 32, 16516)\n",
      "0(128, 32, 16516)\n",
      "0(128, 32, 16516)\n",
      "0(128, 32, 16516)\n",
      "0(128, 32, 16516)\n",
      "0(128, 32, 16516)\n",
      "0(128, 32, 16516)\n",
      "0(128, 32, 16516)\n",
      "0(128, 32, 16516)\n",
      "0(128, 32, 16516)\n",
      "0(128, 32, 16516)\n",
      "0(128, 32, 16516)\n",
      "0(128, 32, 16516)\n",
      "0(128, 32, 16516)\n",
      "0(128, 32, 16516)\n",
      "0(128, 32, 16516)\n",
      "0(128, 32, 16516)\n",
      "0(128, 32, 16516)\n",
      "0(128, 32, 16516)\n",
      "0(128, 32, 16516)\n",
      "0(128, 32, 16516)\n",
      "0(128, 32, 16516)\n",
      "0(128, 32, 16516)\n",
      "0(128, 32, 16516)\n",
      "0(128, 32, 16516)\n",
      "0(128, 32, 16516)\n",
      "0(128, 32, 16516)\n",
      "0(128, 32, 16516)\n",
      "0(128, 32, 16516)\n",
      "0(128, 32, 16516)\n",
      "0(128, 32, 16516)\n",
      "0(128, 32, 16516)\n",
      "0(128, 32, 16516)\n",
      "0(128, 32, 16516)\n",
      "0(128, 32, 16516)\n",
      "0(128, 32, 16516)\n",
      "0(128, 32, 16516)\n",
      "0(128, 32, 16516)\n",
      "0(128, 32, 16516)\n",
      "0(128, 32, 16516)\n",
      "0(128, 32, 16516)\n",
      "0(128, 32, 16516)\n",
      "0(128, 32, 16516)\n",
      "0(128, 32, 16516)\n",
      "0(128, 32, 16516)\n",
      "0(128, 32, 16516)\n",
      "0(128, 32, 16516)\n",
      "0(128, 32, 16516)\n",
      "0(128, 32, 16516)\n",
      "0(128, 32, 16516)\n",
      "0(128, 32, 16516)\n",
      "0(128, 32, 16516)\n",
      "0(128, 32, 16516)\n",
      "0(128, 32, 16516)\n",
      "0(128, 32, 16516)\n",
      "0(128, 32, 16516)\n",
      "0(128, 32, 16516)\n",
      "0(128, 32, 16516)\n",
      "0(128, 32, 16516)\n",
      "0(128, 32, 16516)\n",
      "0(128, 32, 16516)\n",
      "0(128, 32, 16516)\n",
      "0(128, 32, 16516)\n",
      "0(128, 32, 16516)\n",
      "0(128, 32, 16516)\n",
      "0(128, 32, 16516)\n",
      "0(128, 32, 16516)\n",
      "0(128, 32, 16516)\n",
      "0(128, 32, 16516)\n",
      "0(128, 32, 16516)\n",
      "0(128, 32, 16516)\n",
      "0(128, 32, 16516)\n",
      "0(128, 32, 16516)\n",
      "0(128, 32, 16516)\n",
      "0(128, 32, 16516)\n",
      "0(128, 32, 16516)\n",
      "0(128, 32, 16516)\n",
      "0(128, 32, 16516)\n",
      "0(128, 32, 16516)\n",
      "0(128, 32, 16516)\n",
      "0(128, 32, 16516)\n",
      "0(128, 32, 16516)\n",
      "0(128, 32, 16516)\n",
      "0(128, 32, 16516)\n",
      "0(128, 32, 16516)\n",
      "0(128, 32, 16516)\n",
      "0(128, 32, 16516)\n",
      "0(128, 32, 16516)\n",
      "0(128, 32, 16516)\n",
      "0(128, 32, 16516)\n",
      "0(128, 32, 16516)\n",
      "0(128, 32, 16516)\n",
      "0(128, 32, 16516)\n",
      "0(128, 32, 16516)\n",
      "0(128, 32, 16516)\n",
      "0(128, 32, 16516)\n",
      "0(128, 32, 16516)\n",
      "0(128, 32, 16516)\n",
      "0(128, 32, 16516)\n",
      "0(128, 32, 16516)\n",
      "0(128, 32, 16516)\n",
      "0(128, 32, 16516)\n",
      "0(128, 32, 16516)\n",
      "0(128, 32, 16516)\n",
      "0(128, 32, 16516)\n",
      "0(128, 32, 16516)\n",
      "0(128, 32, 16516)\n",
      "0(128, 32, 16516)\n",
      "0(128, 32, 16516)\n",
      "0(128, 32, 16516)\n",
      "0(128, 32, 16516)\n",
      "0(128, 32, 16516)\n",
      "0(128, 32, 16516)\n",
      "0(128, 32, 16516)\n",
      "0(128, 32, 16516)\n",
      "0(128, 32, 16516)\n",
      "0(128, 32, 16516)\n",
      "0(128, 32, 16516)\n",
      "0(128, 32, 16516)\n",
      "0(128, 32, 16516)\n"
     ]
    },
    {
     "ename": "KeyboardInterrupt",
     "evalue": "",
     "output_type": "error",
     "traceback": [
      "\u001B[0;31m---------------------------------------------------------------------------\u001B[0m",
      "\u001B[0;31mKeyboardInterrupt\u001B[0m                         Traceback (most recent call last)",
      "\u001B[0;32m<ipython-input-8-d0b6e2ac7d4f>\u001B[0m in \u001B[0;36m<module>\u001B[0;34m\u001B[0m\n\u001B[1;32m      5\u001B[0m \u001B[0mnormalizer\u001B[0m\u001B[0;34m.\u001B[0m\u001B[0mstart\u001B[0m\u001B[0;34m(\u001B[0m\u001B[0;34m)\u001B[0m\u001B[0;34m\u001B[0m\u001B[0;34m\u001B[0m\u001B[0m\n\u001B[1;32m      6\u001B[0m \u001B[0mpredictor\u001B[0m\u001B[0;34m.\u001B[0m\u001B[0mstart\u001B[0m\u001B[0;34m(\u001B[0m\u001B[0;34m)\u001B[0m\u001B[0;34m\u001B[0m\u001B[0;34m\u001B[0m\u001B[0m\n\u001B[0;32m----> 7\u001B[0;31m \u001B[0mlistener\u001B[0m\u001B[0;34m.\u001B[0m\u001B[0mjoin\u001B[0m\u001B[0;34m(\u001B[0m\u001B[0;34m)\u001B[0m\u001B[0;34m\u001B[0m\u001B[0;34m\u001B[0m\u001B[0m\n\u001B[0m\u001B[1;32m      8\u001B[0m \u001B[0mnormalizer\u001B[0m\u001B[0;34m.\u001B[0m\u001B[0mjoin\u001B[0m\u001B[0;34m(\u001B[0m\u001B[0;34m)\u001B[0m\u001B[0;34m\u001B[0m\u001B[0;34m\u001B[0m\u001B[0m\n\u001B[1;32m      9\u001B[0m \u001B[0mpredictor\u001B[0m\u001B[0;34m.\u001B[0m\u001B[0mjoin\u001B[0m\u001B[0;34m(\u001B[0m\u001B[0;34m)\u001B[0m\u001B[0;34m\u001B[0m\u001B[0;34m\u001B[0m\u001B[0m\n",
      "\u001B[0;32m/usr/lib/python3.6/threading.py\u001B[0m in \u001B[0;36mjoin\u001B[0;34m(self, timeout)\u001B[0m\n\u001B[1;32m   1054\u001B[0m \u001B[0;34m\u001B[0m\u001B[0m\n\u001B[1;32m   1055\u001B[0m         \u001B[0;32mif\u001B[0m \u001B[0mtimeout\u001B[0m \u001B[0;32mis\u001B[0m \u001B[0;32mNone\u001B[0m\u001B[0;34m:\u001B[0m\u001B[0;34m\u001B[0m\u001B[0;34m\u001B[0m\u001B[0m\n\u001B[0;32m-> 1056\u001B[0;31m             \u001B[0mself\u001B[0m\u001B[0;34m.\u001B[0m\u001B[0m_wait_for_tstate_lock\u001B[0m\u001B[0;34m(\u001B[0m\u001B[0;34m)\u001B[0m\u001B[0;34m\u001B[0m\u001B[0;34m\u001B[0m\u001B[0m\n\u001B[0m\u001B[1;32m   1057\u001B[0m         \u001B[0;32melse\u001B[0m\u001B[0;34m:\u001B[0m\u001B[0;34m\u001B[0m\u001B[0;34m\u001B[0m\u001B[0m\n\u001B[1;32m   1058\u001B[0m             \u001B[0;31m# the behavior of a negative timeout isn't documented, but\u001B[0m\u001B[0;34m\u001B[0m\u001B[0;34m\u001B[0m\u001B[0;34m\u001B[0m\u001B[0m\n",
      "\u001B[0;32m/usr/lib/python3.6/threading.py\u001B[0m in \u001B[0;36m_wait_for_tstate_lock\u001B[0;34m(self, block, timeout)\u001B[0m\n\u001B[1;32m   1070\u001B[0m         \u001B[0;32mif\u001B[0m \u001B[0mlock\u001B[0m \u001B[0;32mis\u001B[0m \u001B[0;32mNone\u001B[0m\u001B[0;34m:\u001B[0m  \u001B[0;31m# already determined that the C code is done\u001B[0m\u001B[0;34m\u001B[0m\u001B[0;34m\u001B[0m\u001B[0m\n\u001B[1;32m   1071\u001B[0m             \u001B[0;32massert\u001B[0m \u001B[0mself\u001B[0m\u001B[0;34m.\u001B[0m\u001B[0m_is_stopped\u001B[0m\u001B[0;34m\u001B[0m\u001B[0;34m\u001B[0m\u001B[0m\n\u001B[0;32m-> 1072\u001B[0;31m         \u001B[0;32melif\u001B[0m \u001B[0mlock\u001B[0m\u001B[0;34m.\u001B[0m\u001B[0macquire\u001B[0m\u001B[0;34m(\u001B[0m\u001B[0mblock\u001B[0m\u001B[0;34m,\u001B[0m \u001B[0mtimeout\u001B[0m\u001B[0;34m)\u001B[0m\u001B[0;34m:\u001B[0m\u001B[0;34m\u001B[0m\u001B[0;34m\u001B[0m\u001B[0m\n\u001B[0m\u001B[1;32m   1073\u001B[0m             \u001B[0mlock\u001B[0m\u001B[0;34m.\u001B[0m\u001B[0mrelease\u001B[0m\u001B[0;34m(\u001B[0m\u001B[0;34m)\u001B[0m\u001B[0;34m\u001B[0m\u001B[0;34m\u001B[0m\u001B[0m\n\u001B[1;32m   1074\u001B[0m             \u001B[0mself\u001B[0m\u001B[0;34m.\u001B[0m\u001B[0m_stop\u001B[0m\u001B[0;34m(\u001B[0m\u001B[0;34m)\u001B[0m\u001B[0;34m\u001B[0m\u001B[0;34m\u001B[0m\u001B[0m\n",
      "\u001B[0;31mKeyboardInterrupt\u001B[0m: "
     ]
    }
   ],
   "source": [
    "listener = Thread(target=audio_listener)\n",
    "normalizer = Thread(target=audio_normalizer)\n",
    "predictor = Thread(target=audio_predictor)\n",
    "listener.start()\n",
    "normalizer.start()\n",
    "predictor.start()\n",
    "listener.join()\n",
    "normalizer.join()\n",
    "predictor.join()"
   ],
   "metadata": {
    "collapsed": false,
    "pycharm": {
     "name": "#%%\n"
    }
   }
  },
  {
   "cell_type": "code",
   "execution_count": null,
   "outputs": [],
   "source": [],
   "metadata": {
    "collapsed": false,
    "pycharm": {
     "name": "#%%"
    }
   }
  }
 ],
 "metadata": {
  "kernelspec": {
   "display_name": "Python 3",
   "language": "python",
   "name": "python3"
  },
  "language_info": {
   "codemirror_mode": {
    "name": "ipython",
    "version": 2
   },
   "file_extension": ".py",
   "mimetype": "text/x-python",
   "name": "python",
   "nbconvert_exporter": "python",
   "pygments_lexer": "ipython2",
   "version": "2.7.6"
  }
 },
 "nbformat": 4,
 "nbformat_minor": 0
}